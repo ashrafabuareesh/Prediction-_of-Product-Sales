{
  "nbformat": 4,
  "nbformat_minor": 0,
  "metadata": {
    "colab": {
      "provenance": [],
      "toc_visible": true,
      "authorship_tag": "ABX9TyN9o4plZU615Dl0RsLZCbvh",
      "include_colab_link": true
    },
    "kernelspec": {
      "name": "python3",
      "display_name": "Python 3"
    },
    "language_info": {
      "name": "python"
    }
  },
  "cells": [
    {
      "cell_type": "markdown",
      "metadata": {
        "id": "view-in-github",
        "colab_type": "text"
      },
      "source": [
        "<a href=\"https://colab.research.google.com/github/ashrafabuareesh/Prediction-_of-Product-Sales/blob/main/Prediction_of_Product_Sales.ipynb\" target=\"_parent\"><img src=\"https://colab.research.google.com/assets/colab-badge.svg\" alt=\"Open In Colab\"/></a>"
      ]
    },
    {
      "cell_type": "markdown",
      "source": [
        "# Prediction of Product Sales\n",
        "* Auther:Ashraf Abu Areesh\n",
        "\n"
      ],
      "metadata": {
        "id": "2HK70qXLQbmm"
      }
    },
    {
      "cell_type": "markdown",
      "source": [
        "## Project Overview"
      ],
      "metadata": {
        "id": "9cCAhmBLR3jb"
      }
    },
    {
      "cell_type": "code",
      "source": [],
      "metadata": {
        "id": "DwYBsehkSkjI"
      },
      "execution_count": null,
      "outputs": []
    },
    {
      "cell_type": "markdown",
      "source": [
        "##   **Load** and **Inspect** Data"
      ],
      "metadata": {
        "id": "iYbvYhdWSK-x"
      }
    },
    {
      "cell_type": "code",
      "source": [],
      "metadata": {
        "id": "SyT_rszFgkaq"
      },
      "execution_count": null,
      "outputs": []
    },
    {
      "cell_type": "markdown",
      "source": [
        "## **Clean** Data"
      ],
      "metadata": {
        "id": "KCSe_WpzSTiu"
      }
    },
    {
      "cell_type": "code",
      "source": [],
      "metadata": {
        "id": "XNHaku74gljI"
      },
      "execution_count": null,
      "outputs": []
    },
    {
      "cell_type": "markdown",
      "source": [
        "## **Exploratory** Data Analysis"
      ],
      "metadata": {
        "id": "BJhT8VUlSlfR"
      }
    },
    {
      "cell_type": "code",
      "source": [],
      "metadata": {
        "id": "SczhdMqQgmzC"
      },
      "execution_count": null,
      "outputs": []
    },
    {
      "cell_type": "markdown",
      "source": [
        "## Feature **Inspection**"
      ],
      "metadata": {
        "id": "3i78JTmPSvex"
      }
    },
    {
      "cell_type": "code",
      "source": [],
      "metadata": {
        "id": "B43P4ELWSqjI"
      },
      "execution_count": null,
      "outputs": []
    }
  ]
}